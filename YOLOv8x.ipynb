{
  "nbformat": 4,
  "nbformat_minor": 0,
  "metadata": {
    "colab": {
      "provenance": []
    },
    "kernelspec": {
      "name": "python3",
      "display_name": "Python 3"
    },
    "language_info": {
      "name": "python"
    }
  },
  "cells": [
    {
      "cell_type": "code",
      "source": [
        "!pip install ultralytics roboflow matplotlib seaborn --quiet"
      ],
      "metadata": {
        "id": "MEAuMkAsZ85v"
      },
      "execution_count": null,
      "outputs": []
    },
    {
      "cell_type": "code",
      "source": [
        "import torch\n",
        "print(f\"GPU available: {torch.cuda.is_available()}\")\n",
        "print(f\"GPU name: {torch.cuda.get_device_name(0)}\")"
      ],
      "metadata": {
        "id": "gilNqFa3Z-Zu"
      },
      "execution_count": null,
      "outputs": []
    },
    {
      "cell_type": "code",
      "source": [
        "!pip install roboflow\n",
        "\n",
        "from roboflow import Roboflow\n",
        "rf = Roboflow(api_key=\"uiIpENtp73grZiYxNBSl\")\n",
        "project = rf.workspace(\"engineer-bi8td\").project(\"plastic-multiclass\")\n",
        "version = project.version(2)\n",
        "dataset = version.download(\"yolov8\")\n",
        ""
      ],
      "metadata": {
        "id": "KkLcOs4pZ_rY"
      },
      "execution_count": null,
      "outputs": []
    },
    {
      "cell_type": "code",
      "source": [
        "from ultralytics import YOLO\n",
        "import matplotlib.pyplot as plt\n",
        "\n",
        "# Load the largest model for best accuracy\n",
        "model = YOLO('yolov8x.pt')  # XLarge model (best for >90% accuracy)\n",
        "\n",
        "# Train with high-accuracy settings\n",
        "results = model.train(\n",
        "    data=f\"{dataset.location}/data.yaml\",  # Auto path if using Roboflow\n",
        "    epochs=300,                # More epochs for convergence\n",
        "    imgsz=1024,                # Higher resolution for small objects\n",
        "    batch=8,                   # Smaller batch for RTX 4050 (6GB VRAM)\n",
        "    optimizer='AdamW',         # Better optimization\n",
        "    lr0=0.01,                  # Learning rate\n",
        "    lrf=0.01,                  # Final learning rate\n",
        "    momentum=0.937,            # SGD momentum\n",
        "    weight_decay=0.0005,       # Regularization\n",
        "    warmup_epochs=3.0,         # Gradual learning start\n",
        "    warmup_momentum=0.8,       # Initial momentum\n",
        "    box=7.5,                   # Box loss gain\n",
        "    cls=0.5,                   # Class loss gain\n",
        "    dfl=1.5,                   # Distribution Focal Loss gain\n",
        "    augment=True,              # Advanced augmentations\n",
        "    flipud=0.5,                # Vertical flip probability\n",
        "    fliplr=0.5,                # Horizontal flip probability\n",
        "    mosaic=1.0,                # Mosaic augmentation probability\n",
        "    mixup=0.1,                 # MixUp augmentation probability\n",
        "    copy_paste=0.1,            # Copy-Paste augmentation probability\n",
        "    erasing=0.4,               # Random erasing probability\n",
        "    degrees=45.0,              # Rotation degrees\n",
        "    translate=0.2,             # Image translation (+/- fraction)\n",
        "    scale=0.2,                 # Image scale (+/- gain)\n",
        "    shear=10.0,                # Image shear (+/- deg)\n",
        "    perspective=0.0001,        # Image perspective (+/- fraction)\n",
        "    hsv_h=0.015,               # Image HSV-Hue augmentation (fraction)\n",
        "    hsv_s=0.7,                 # Image HSV-Saturation augmentation (fraction)\n",
        "    hsv_v=0.4,                 # Image HSV-Value augmentation (fraction)\n",
        "    device='0',                # Use GPU\n",
        "    workers=8,                 # Data loading threads\n",
        "    single_cls=False,          # Treat as multi-class\n",
        "    rect=False,                # Rectangular training\n",
        "    cos_lr=True,               # Cosine LR scheduler\n",
        "    close_mosaic=10,           # Disable mosaic last epochs\n",
        "    resume=False,              # Resume from last.pt\n",
        "    amp=True,                  # Automatic Mixed Precision\n",
        ")"
      ],
      "metadata": {
        "id": "aYOhf_2eaEUl"
      },
      "execution_count": null,
      "outputs": []
    },
    {
      "cell_type": "code",
      "source": [
        "# Plot training results\n",
        "results = model.train()  # Continue training if needed\n",
        "\n",
        "# Show performance metrics\n",
        "metrics = model.val()\n",
        "print(f\"mAP50-95: {metrics.box.map:.2f}\")  # Should be >0.9 for 90% accuracy"
      ],
      "metadata": {
        "id": "QQkVXSqHaJKj"
      },
      "execution_count": null,
      "outputs": []
    },
    {
      "cell_type": "code",
      "source": [
        "from IPython.display import Image\n",
        "\n",
        "# Show confusion matrix\n",
        "Image(filename=f'{model.trainer.save_dir}/confusion_matrix.png')\n",
        "\n",
        "# Show training curves\n",
        "Image(filename=f'{model.trainer.save_dir}/results.png')"
      ],
      "metadata": {
        "id": "ao-jqF8faNDu"
      },
      "execution_count": null,
      "outputs": []
    },
    {
      "cell_type": "markdown",
      "source": [
        " Running Inference (After Training)"
      ],
      "metadata": {
        "id": "TxXO8FwfaPp5"
      }
    },
    {
      "cell_type": "code",
      "source": [
        "# Load best model\n",
        "best_model = YOLO(f'{model.trainer.save_dir}/weights/best.pt')\n",
        "\n",
        "# Run prediction\n",
        "results = best_model.predict(\n",
        "    source=\"path/to/test/image.jpg\",\n",
        "    conf=0.5,        # Confidence threshold\n",
        "    iou=0.45,        # NMS IoU threshold\n",
        "    imgsz=1024,      # Inference size\n",
        "    device='0',      # Use GPU\n",
        "    show=True,       # Display results\n",
        "    save=True,       # Save results\n",
        "    save_txt=True,   # Save results as .txt\n",
        "    save_conf=True,  # Save confidence scores\n",
        "    save_crop=False, # Save cropped predictions\n",
        "    show_labels=True,\n",
        "    show_conf=True,\n",
        "    line_width=2,\n",
        ")\n",
        "\n",
        "# Display results in notebook\n",
        "for result in results:\n",
        "    display(Image.fromarray(result.plot()[:, :, ::-1]))"
      ],
      "metadata": {
        "id": "I4jP7-5raQ2Q"
      },
      "execution_count": null,
      "outputs": []
    },
    {
      "cell_type": "markdown",
      "source": [
        "Saving Progress:\n",
        "\n",
        "Model auto-saves every epoch in runs/detect/train/weights/\n",
        "\n",
        "Best model is best.pt"
      ],
      "metadata": {
        "id": "Nxl7T-7aaX9a"
      }
    },
    {
      "cell_type": "code",
      "source": [],
      "metadata": {
        "id": "cIyEfr-KabNX"
      },
      "execution_count": null,
      "outputs": []
    }
  ]
}